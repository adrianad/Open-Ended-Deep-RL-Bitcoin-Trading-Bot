{
 "cells": [
  {
   "cell_type": "code",
   "execution_count": 1,
   "metadata": {},
   "outputs": [
    {
     "name": "stderr",
     "output_type": "stream",
     "text": [
      "2024-05-29 22:51:07.902756: E external/local_xla/xla/stream_executor/cuda/cuda_dnn.cc:9261] Unable to register cuDNN factory: Attempting to register factory for plugin cuDNN when one has already been registered\n",
      "2024-05-29 22:51:07.902834: E external/local_xla/xla/stream_executor/cuda/cuda_fft.cc:607] Unable to register cuFFT factory: Attempting to register factory for plugin cuFFT when one has already been registered\n",
      "2024-05-29 22:51:07.938389: E external/local_xla/xla/stream_executor/cuda/cuda_blas.cc:1515] Unable to register cuBLAS factory: Attempting to register factory for plugin cuBLAS when one has already been registered\n",
      "2024-05-29 22:51:07.994544: I tensorflow/core/platform/cpu_feature_guard.cc:182] This TensorFlow binary is optimized to use available CPU instructions in performance-critical operations.\n",
      "To enable the following instructions: AVX2 FMA, in other operations, rebuild TensorFlow with the appropriate compiler flags.\n",
      "2024-05-29 22:51:09.281625: W tensorflow/compiler/tf2tensorrt/utils/py_utils.cc:38] TF-TRT Warning: Could not find TensorRT\n"
     ]
    }
   ],
   "source": [
    "import numpy as np\n",
    "import matplotlib.pyplot as plt\n",
    "import gymnasium as gym\n",
    "from tqdm.notebook import tqdm \n",
    "from sklearn.preprocessing import robust_scale\n",
    "\n",
    "from rainbow.agent import Rainbow\n",
    "\n",
    "import sys\n",
    "import gym_trading_env\n",
    "import nest_asyncio\n"
   ]
  },
  {
   "cell_type": "markdown",
   "metadata": {},
   "source": [
    "# Create environments"
   ]
  },
  {
   "cell_type": "code",
   "execution_count": 2,
   "metadata": {},
   "outputs": [
    {
     "name": "stdout",
     "output_type": "stream",
     "text": [
      "data/processed/training/*.pkl\n",
      "data/processed/training/*.pkl\n",
      "data/processed/training/*.pkl\n",
      "data/processed/training/*.pkl\n",
      "data/processed/training/*.pkl\n",
      "data/processed/training/*.pkl\n",
      "data/processed/validation/*.pkl\n",
      "data/processed/validation/*.pkl\n",
      "data/processed/validation/*.pkl\n",
      "data/processed/validation/*.pkl\n",
      "data/processed/validation/*.pkl\n",
      "data/processed/validation/*.pkl\n"
     ]
    }
   ],
   "source": [
    "def add_features(df):\n",
    "    \n",
    "    df[\"feature_close\"] = robust_scale(df[\"close\"].pct_change(fill_method=None))\n",
    "    df[\"feature_open\"] = robust_scale(df[\"open\"]/df[\"close\"])\n",
    "    df[\"feature_high\"] = robust_scale(df[\"high\"]/df[\"close\"])\n",
    "    df[\"feature_low\"] = robust_scale(df[\"low\"]/df[\"close\"])\n",
    "    df[\"feature_volume\"] = robust_scale(df[\"volume\"] / df[\"volume\"].rolling(7*24).max())\n",
    "\n",
    "    df.dropna(inplace= True) # Clean your data !\n",
    "\n",
    "    return df\n",
    "\n",
    "\n",
    "def reward_function(history):\n",
    "    position = history[\"position\", -1]\n",
    "    last_position = history[\"position\", -2]\n",
    "    data_close = history[\"data_close\", -1]\n",
    "    last_data_close = history[\"data_close\", -2]    \n",
    "\n",
    "    if position == 0:\n",
    "        reward =  last_data_close - data_close\n",
    "    if position == 1:\n",
    "        reward =  data_close - last_data_close\n",
    "\n",
    "    # fees\n",
    "    if position != last_position:\n",
    "        reward = reward - (history[\"portfolio_valuation\", -2] * 0.0001)\n",
    "\n",
    "    # h = history[-1]\n",
    "\n",
    "    # print(h[\"step\"], h[\"position\"], h[\"data_close\"], h[\"portfolio_valuation\"], reward)\n",
    "\n",
    "    return 3*reward\n",
    "\n",
    "    \n",
    "\n",
    "    #return 800*np.log(history[\"portfolio_valuation\", -1] / history[\"portfolio_valuation\", -2]) #log (p_t / p_t-1 )\n",
    "\n",
    "def max_drawdown(history):\n",
    "    networth_array = history['portfolio_valuation']\n",
    "    _max_networth = networth_array[0]\n",
    "    _max_drawdown = 0\n",
    "    for networth in networth_array:\n",
    "        if networth > _max_networth:\n",
    "            _max_networth = networth\n",
    "        drawdown = ( networth - _max_networth ) / _max_networth\n",
    "        if drawdown < _max_drawdown:\n",
    "            _max_drawdown = drawdown\n",
    "    return f\"{_max_drawdown*100:5.2f}%\"\n",
    "\n",
    "def make_env(dir):\n",
    "    print(dir)\n",
    "    env = gym.make(\n",
    "        \"MultiDatasetTradingEnv\",\n",
    "        \n",
    "        \n",
    "        dataset_dir= dir,\n",
    "        preprocess= add_features,\n",
    "        windows= 15,\n",
    "        positions = [0, 1], # From -1 (=SHORT), to +1 (=LONG)\n",
    "        initial_position = 0,\n",
    "        trading_fees = 0.01/100, # 0.01% per stock buy / sell (Binance fees)\n",
    "        borrow_interest_rate= 0.0003/100, # 0.0003% per timestep (= 1h here)\n",
    "        reward_function = reward_function,\n",
    "        portfolio_initial_value = 1000, # here, in USDT\n",
    "        \n",
    "        verbose= 1,\n",
    "    )\n",
    "    env.unwrapped.add_metric('Position Changes', lambda history : f\"{ 100*np.sum(np.diff(history['position']) != 0)/len(history['position']):5.2f}%\" )\n",
    "    env.unwrapped.add_metric('Max Drawdown', max_drawdown)\n",
    "    return env\n",
    "\n",
    "\n",
    "training_envs = gym.vector.SyncVectorEnv([lambda: make_env(\"data/processed/training/*.pkl\") for _ in range(6)])\n",
    "validation_envs = gym.vector.SyncVectorEnv([lambda: make_env(\"data/processed/validation/*.pkl\") for _ in range(6)])\n"
   ]
  },
  {
   "cell_type": "code",
   "execution_count": 3,
   "metadata": {
    "scrolled": true
   },
   "outputs": [
    {
     "name": "stderr",
     "output_type": "stream",
     "text": [
      "2024-05-23 17:16:30.677488: I external/local_xla/xla/stream_executor/cuda/cuda_executor.cc:887] could not open file to read NUMA node: /sys/bus/pci/devices/0000:01:00.0/numa_node\n",
      "Your kernel may have been built without NUMA support.\n",
      "2024-05-23 17:16:30.703335: I external/local_xla/xla/stream_executor/cuda/cuda_executor.cc:887] could not open file to read NUMA node: /sys/bus/pci/devices/0000:01:00.0/numa_node\n",
      "Your kernel may have been built without NUMA support.\n",
      "2024-05-23 17:16:30.703387: I external/local_xla/xla/stream_executor/cuda/cuda_executor.cc:887] could not open file to read NUMA node: /sys/bus/pci/devices/0000:01:00.0/numa_node\n",
      "Your kernel may have been built without NUMA support.\n",
      "2024-05-23 17:16:30.706337: I external/local_xla/xla/stream_executor/cuda/cuda_executor.cc:887] could not open file to read NUMA node: /sys/bus/pci/devices/0000:01:00.0/numa_node\n",
      "Your kernel may have been built without NUMA support.\n",
      "2024-05-23 17:16:30.706546: I external/local_xla/xla/stream_executor/cuda/cuda_executor.cc:887] could not open file to read NUMA node: /sys/bus/pci/devices/0000:01:00.0/numa_node\n",
      "Your kernel may have been built without NUMA support.\n",
      "2024-05-23 17:16:30.706605: I external/local_xla/xla/stream_executor/cuda/cuda_executor.cc:887] could not open file to read NUMA node: /sys/bus/pci/devices/0000:01:00.0/numa_node\n",
      "Your kernel may have been built without NUMA support.\n",
      "2024-05-23 17:16:30.819149: I external/local_xla/xla/stream_executor/cuda/cuda_executor.cc:887] could not open file to read NUMA node: /sys/bus/pci/devices/0000:01:00.0/numa_node\n",
      "Your kernel may have been built without NUMA support.\n",
      "2024-05-23 17:16:30.819214: I external/local_xla/xla/stream_executor/cuda/cuda_executor.cc:887] could not open file to read NUMA node: /sys/bus/pci/devices/0000:01:00.0/numa_node\n",
      "Your kernel may have been built without NUMA support.\n",
      "2024-05-23 17:16:30.819225: I tensorflow/core/common_runtime/gpu/gpu_device.cc:2022] Could not identify NUMA node of platform GPU id 0, defaulting to 0.  Your kernel may not have been built with NUMA support.\n",
      "2024-05-23 17:16:30.819272: I external/local_xla/xla/stream_executor/cuda/cuda_executor.cc:887] could not open file to read NUMA node: /sys/bus/pci/devices/0000:01:00.0/numa_node\n",
      "Your kernel may have been built without NUMA support.\n",
      "2024-05-23 17:16:30.819303: I tensorflow/core/common_runtime/gpu/gpu_device.cc:1929] Created device /job:localhost/replica:0/task:0/device:GPU:0 with 4734 MB memory:  -> device: 0, name: NVIDIA GeForce GTX 980 Ti, pci bus id: 0000:01:00.0, compute capability: 5.2\n",
      "2024-05-23 17:16:32.569573: I external/local_tsl/tsl/platform/default/subprocess.cc:304] Start cannot spawn child process: No such file or directory\n"
     ]
    }
   ],
   "source": [
    "agent = Rainbow(\n",
    "    simultaneous_training_env = 6,\n",
    "    \n",
    "    # Distributional\n",
    "    distributional= True,\n",
    "    v_min= -200,\n",
    "    v_max = 250,\n",
    "    nb_atoms= 51, \n",
    "    # Prioritized Replay\n",
    "    prioritized_replay = True,\n",
    "    prioritized_replay_alpha= 0.5,\n",
    "    prioritized_replay_beta_function = lambda episode, step : min(1, 0.5 + 0.5*step/150_000),\n",
    "    \n",
    "    # General\n",
    "    multi_steps = 3,\n",
    "    nb_states = 7,\n",
    "    nb_actions = 2,\n",
    "    gamma = 0.99,\n",
    "    replay_capacity = 1E7,\n",
    "    tau = 2000,\n",
    "    \n",
    "    # Model\n",
    "    window= 15,\n",
    "    units = [16,16,16],\n",
    "    dropout= 0.2,\n",
    "    adversarial= True,\n",
    "    noisy= False,\n",
    "    learning_rate = 3*2.5E-4,\n",
    "\n",
    "    batch_size= 128,\n",
    "    train_every = 10,\n",
    "    epsilon_function = lambda episode, step : max(0.001, (1 - 2E-5)** step),\n",
    "    name = \"Rainbow\",\n",
    ")"
   ]
  },
  {
   "cell_type": "code",
   "execution_count": 4,
   "metadata": {},
   "outputs": [],
   "source": [
    "agent.epsilon_function = lambda episode, step : max(0.02, (1 - 1E-5)** step)"
   ]
  },
  {
   "cell_type": "code",
   "execution_count": 4,
   "metadata": {},
   "outputs": [],
   "source": [
    "def train(steps = 100_000):\n",
    "    print(\"___________________________________________ TRAINING ___________________________________________\")\n",
    "    if 'obs' not in globals():\n",
    "        global obs\n",
    "        obs, info = training_envs.reset()\n",
    "    for _ in tqdm(range(steps), mininterval=int(30)):\n",
    "        actions = agent.e_greedy_pick_actions(obs)\n",
    "        next_obs, rewards, dones, truncateds, infos = training_envs.step(actions)\n",
    "\n",
    "        agent.store_replays(obs, actions, rewards, next_obs, dones, truncateds)\n",
    "        agent.train()\n",
    "\n",
    "        obs = next_obs\n",
    "\n",
    "def evaluation():\n",
    "    print(\"___________________________________________ VALIDATION ___________________________________________\")\n",
    "    val_obs, info = validation_envs.reset()\n",
    "    check = np.array([False for _ in range(val_obs.shape[0])])\n",
    "    while not np.all(check):\n",
    "        actions = agent.e_greedy_pick_actions(val_obs)\n",
    "        next_obs, rewards, dones, truncateds, infos = validation_envs.step(actions)\n",
    "        val_obs = next_obs\n",
    "        check += dones + truncateds"
   ]
  },
  {
   "cell_type": "code",
   "execution_count": null,
   "metadata": {
    "scrolled": true
   },
   "outputs": [
    {
     "name": "stdout",
     "output_type": "stream",
     "text": [
      "___________________________________________ \n",
      "--------> Timeleft: 30239s\n",
      "___________________________________________ TRAINING ___________________________________________\n"
     ]
    },
    {
     "data": {
      "application/vnd.jupyter.widget-view+json": {
       "model_id": "6c5d99885ab442a48cf0c98d58f7775d",
       "version_major": 2,
       "version_minor": 0
      },
      "text/plain": [
       "  0%|          | 0/88000 [00:00<?, ?it/s]"
      ]
     },
     "metadata": {},
     "output_type": "display_data"
    },
    {
     "name": "stdout",
     "output_type": "stream",
     "text": [
      "Market Return : 1031.21%   |   Portfolio Return : 1754.89%   |   Position Changes : 24.33%   |   Max Drawdown : -55.41%   |   \n",
      "↳ Env 5 : 010 :   922232   |   04:56:17   |   Epsilon :  0.10%\n",
      "Market Return : 1033.61%   |   Portfolio Return : 1021.33%   |   Position Changes : 24.35%   |   Max Drawdown : -64.02%   |   \n",
      "↳ Env 3 : 010 :   922246   |   04:56:18   |   Epsilon :  0.10%\n",
      "Market Return : 1033.61%   |   Portfolio Return : 871.07%   |   Position Changes : 24.33%   |   Max Drawdown : -66.86%   |   \n",
      "↳ Env 0 : 010 :   922265   |   04:56:19   |   Epsilon :  0.10%\n",
      "Market Return : 1033.61%   |   Portfolio Return : 937.16%   |   Position Changes : 24.32%   |   Max Drawdown : -65.38%   |   \n",
      "↳ Env 2 : 010 :   922267   |   04:56:19   |   Epsilon :  0.10%\n",
      "Market Return : 1033.61%   |   Portfolio Return : 979.30%   |   Position Changes : 24.32%   |   Max Drawdown : -63.20%   |   \n",
      "↳ Env 4 : 010 :   922284   |   04:56:20   |   Epsilon :  0.10%\n",
      "Market Return : 1031.21%   |   Portfolio Return : 1579.82%   |   Position Changes : 24.46%   |   Max Drawdown : -55.34%   |   \n",
      "↳ Env 1 : 010 :   922346   |   04:56:22   |   Epsilon :  0.10%\n",
      "___________________________________________ VALIDATION ___________________________________________\n",
      "Market Return : 50.55%   |   Portfolio Return : 21.37%   |   Position Changes : 16.12%   |   Max Drawdown : -28.39%   |   \n",
      "Market Return : 50.71%   |   Portfolio Return : 12.37%   |   Position Changes : 15.98%   |   Max Drawdown : -27.82%   |   \n",
      "Market Return : 50.71%   |   Portfolio Return : 12.12%   |   Position Changes : 15.95%   |   Max Drawdown : -27.84%   |   \n",
      "Market Return : 50.47%   |   Portfolio Return : 13.12%   |   Position Changes : 15.76%   |   Max Drawdown : -26.85%   |   \n",
      "Market Return : 50.55%   |   Portfolio Return : 25.53%   |   Position Changes : 16.09%   |   Max Drawdown : -26.71%   |   \n",
      "Market Return : 50.55%   |   Portfolio Return : 24.79%   |   Position Changes : 16.09%   |   Max Drawdown : -26.36%   |   \n",
      "Market Return : 50.71%   |   Portfolio Return : 11.52%   |   Position Changes : 15.95%   |   Max Drawdown : -27.84%   |   \n",
      "Market Return : -76.12%   |   Portfolio Return : -25.14%   |   Position Changes : 22.48%   |   Max Drawdown : -53.09%   |   \n",
      "Market Return : -63.79%   |   Portfolio Return : 25.66%   |   Position Changes : 22.69%   |   Max Drawdown : -53.70%   |   \n",
      "___________________________________________ \n",
      "--------> Timeleft: 27670s\n",
      "___________________________________________ TRAINING ___________________________________________\n"
     ]
    },
    {
     "data": {
      "application/vnd.jupyter.widget-view+json": {
       "model_id": "430dc379c5f1454c88764f8dafa8921f",
       "version_major": 2,
       "version_minor": 0
      },
      "text/plain": [
       "  0%|          | 0/88000 [00:00<?, ?it/s]"
      ]
     },
     "metadata": {},
     "output_type": "display_data"
    },
    {
     "name": "stdout",
     "output_type": "stream",
     "text": [
      "Market Return : 1031.21%   |   Portfolio Return : 1567.53%   |   Position Changes : 23.70%   |   Max Drawdown : -52.96%   |   \n",
      "↳ Env 5 : 011 :  1006084   |   05:42:07   |   Epsilon :  0.10%\n",
      "Market Return : 1031.21%   |   Portfolio Return : 1825.08%   |   Position Changes : 23.70%   |   Max Drawdown : -54.00%   |   \n",
      "↳ Env 3 : 011 :  1006098   |   05:42:08   |   Epsilon :  0.10%\n",
      "Market Return : 1033.61%   |   Portfolio Return : 2188.28%   |   Position Changes : 23.72%   |   Max Drawdown : -61.45%   |   \n",
      "↳ Env 0 : 011 :  1006100   |   05:42:08   |   Epsilon :  0.10%\n",
      "Market Return : 1031.21%   |   Portfolio Return : 2092.64%   |   Position Changes : 23.67%   |   Max Drawdown : -55.37%   |   \n",
      "Market Return : 1033.61%   |   Portfolio Return : 1787.40%   |   Position Changes : 23.70%   |   Max Drawdown : -61.27%   |   \n",
      "↳ Env 2 : 011 :  1006119   |   05:42:10   |   Epsilon :  0.10%\n",
      "↳ Env 4 : 011 :  1006119   |   05:42:10   |   Epsilon :  0.10%\n",
      "Market Return : 1031.21%   |   Portfolio Return : 2141.81%   |   Position Changes : 23.91%   |   Max Drawdown : -50.63%   |   \n",
      "↳ Env 1 : 011 :  1006198   |   05:42:13   |   Epsilon :  0.10%\n",
      "___________________________________________ VALIDATION ___________________________________________\n",
      "Market Return : 50.55%   |   Portfolio Return :  9.86%   |   Position Changes : 17.46%   |   Max Drawdown : -20.56%   |   \n",
      "Market Return : 50.71%   |   Portfolio Return : -0.40%   |   Position Changes : 17.44%   |   Max Drawdown : -24.18%   |   \n",
      "Market Return : 50.71%   |   Portfolio Return : -0.38%   |   Position Changes : 17.38%   |   Max Drawdown : -24.18%   |   \n",
      "Market Return : 50.71%   |   Portfolio Return : -0.38%   |   Position Changes : 17.38%   |   Max Drawdown : -24.18%   |   \n",
      "Market Return : 50.71%   |   Portfolio Return : -1.12%   |   Position Changes : 17.51%   |   Max Drawdown : -24.46%   |   \n",
      "Market Return : -76.12%   |   Portfolio Return : -35.41%   |   Position Changes : 22.75%   |   Max Drawdown : -58.62%   |   \n",
      "Market Return : -63.79%   |   Portfolio Return : 22.06%   |   Position Changes : 22.91%   |   Max Drawdown : -47.30%   |   \n",
      "___________________________________________ \n",
      "--------> Timeleft: 24313s\n",
      "___________________________________________ TRAINING ___________________________________________\n"
     ]
    },
    {
     "data": {
      "application/vnd.jupyter.widget-view+json": {
       "model_id": "d0960e809cfb459693f8e2c9ea772301",
       "version_major": 2,
       "version_minor": 0
      },
      "text/plain": [
       "  0%|          | 0/88000 [00:00<?, ?it/s]"
      ]
     },
     "metadata": {},
     "output_type": "display_data"
    },
    {
     "name": "stdout",
     "output_type": "stream",
     "text": [
      "Market Return : 1033.61%   |   Portfolio Return : 2690.76%   |   Position Changes : 24.88%   |   Max Drawdown : -57.13%   |   \n",
      "↳ Env 5 : 012 :  1089919   |   06:35:46   |   Epsilon :  0.10%\n",
      "Market Return : 1033.61%   |   Portfolio Return : 2820.55%   |   Position Changes : 24.93%   |   Max Drawdown : -54.16%   |   \n",
      "↳ Env 3 : 012 :  1089933   |   06:35:47   |   Epsilon :  0.10%\n",
      "Market Return : 1033.61%   |   Portfolio Return : 2819.98%   |   Position Changes : 24.92%   |   Max Drawdown : -54.95%   |   \n",
      "↳ Env 0 : 012 :  1089935   |   06:35:47   |   Epsilon :  0.10%\n",
      "Market Return : 1033.61%   |   Portfolio Return : 2661.98%   |   Position Changes : 24.90%   |   Max Drawdown : -57.97%   |   \n",
      "↳ Env 2 : 012 :  1089954   |   06:35:48   |   Epsilon :  0.10%\n",
      "Market Return : 1031.21%   |   Portfolio Return : 1780.83%   |   Position Changes : 24.70%   |   Max Drawdown : -54.26%   |   \n",
      "↳ Env 4 : 012 :  1089971   |   06:35:49   |   Epsilon :  0.10%\n",
      "Market Return : 1033.61%   |   Portfolio Return : 1941.17%   |   Position Changes : 24.74%   |   Max Drawdown : -54.98%   |   \n",
      "↳ Env 1 : 012 :  1090033   |   06:35:51   |   Epsilon :  0.10%\n"
     ]
    }
   ],
   "source": [
    "import time\n",
    "\n",
    "t_end = time.time() + 60 * 60 * 8.4\n",
    "# this will run for x minutes\n",
    "while time.time() < t_end:\n",
    "    print('___________________________________________ ')\n",
    "    print(f'--------> Timeleft: {int(t_end - time.time())}s')\n",
    "    train(steps = 88000)\n",
    "    evaluation()"
   ]
  },
  {
   "cell_type": "code",
   "execution_count": 6,
   "metadata": {
    "scrolled": true
   },
   "outputs": [
    {
     "name": "stdout",
     "output_type": "stream",
     "text": [
      "___________________________________________ VALIDATION ___________________________________________\n"
     ]
    },
    {
     "name": "stderr",
     "output_type": "stream",
     "text": [
      "2024-05-22 09:42:01.867657: I external/local_xla/xla/stream_executor/cuda/cuda_dnn.cc:454] Loaded cuDNN version 8904\n"
     ]
    },
    {
     "name": "stdout",
     "output_type": "stream",
     "text": [
      "Market Return : 40.69%   |   Portfolio Return :  5.31%   |   Position Changes : 21.14%   |   Max Drawdown : -15.75%   |   \n",
      "Market Return : 40.49%   |   Portfolio Return : 22.59%   |   Position Changes : 21.49%   |   Max Drawdown : -12.97%   |   \n",
      "Market Return : 41.23%   |   Portfolio Return : -5.72%   |   Position Changes : 21.08%   |   Max Drawdown : -23.34%   |   \n",
      "Market Return : 41.23%   |   Portfolio Return : -5.59%   |   Position Changes : 21.01%   |   Max Drawdown : -23.34%   |   \n",
      "Market Return : 40.59%   |   Portfolio Return : 51.92%   |   Position Changes : 22.36%   |   Max Drawdown : -11.71%   |   \n",
      "Market Return : 40.59%   |   Portfolio Return : 50.02%   |   Position Changes : 22.39%   |   Max Drawdown : -11.88%   |   \n",
      "Market Return : 41.01%   |   Portfolio Return :  2.85%   |   Position Changes : 21.40%   |   Max Drawdown : -19.98%   |   \n",
      "Market Return : 40.72%   |   Portfolio Return : 30.78%   |   Position Changes : 21.59%   |   Max Drawdown : -14.08%   |   \n",
      "Market Return : -76.36%   |   Portfolio Return : 294.94%   |   Position Changes : 20.56%   |   Max Drawdown : -33.08%   |   \n",
      "___________________________________________ VALIDATION ___________________________________________\n",
      "Market Return : 41.23%   |   Portfolio Return : -7.06%   |   Position Changes : 20.98%   |   Max Drawdown : -23.41%   |   \n",
      "Market Return : 41.23%   |   Portfolio Return : -6.05%   |   Position Changes : 20.98%   |   Max Drawdown : -23.34%   |   \n",
      "Market Return : 40.72%   |   Portfolio Return : 30.08%   |   Position Changes : 21.59%   |   Max Drawdown : -14.24%   |   \n",
      "Market Return : 40.49%   |   Portfolio Return : 22.16%   |   Position Changes : 21.46%   |   Max Drawdown : -13.19%   |   \n",
      "Market Return : 41.23%   |   Portfolio Return : -6.66%   |   Position Changes : 21.14%   |   Max Drawdown : -24.31%   |   \n",
      "Market Return : -76.25%   |   Portfolio Return : 272.50%   |   Position Changes : 20.67%   |   Max Drawdown : -40.81%   |   \n",
      "Market Return : -76.49%   |   Portfolio Return : 134.63%   |   Position Changes : 20.16%   |   Max Drawdown : -39.23%   |   \n",
      "Market Return : -76.49%   |   Portfolio Return : 133.03%   |   Position Changes : 20.23%   |   Max Drawdown : -39.23%   |   \n"
     ]
    }
   ],
   "source": [
    "evaluation()\n",
    "evaluation()"
   ]
  },
  {
   "cell_type": "code",
   "execution_count": 5,
   "metadata": {},
   "outputs": [],
   "source": [
    "modelname = \"prio20hNewReward\""
   ]
  },
  {
   "cell_type": "code",
   "execution_count": 9,
   "metadata": {
    "scrolled": true
   },
   "outputs": [
    {
     "name": "stdout",
     "output_type": "stream",
     "text": [
      "INFO:tensorflow:Assets written to: prio20hNewReward/assets\n"
     ]
    },
    {
     "name": "stderr",
     "output_type": "stream",
     "text": [
      "INFO:tensorflow:Assets written to: prio20hNewReward/assets\n"
     ]
    },
    {
     "name": "stdout",
     "output_type": "stream",
     "text": [
      "Saving agent ...\n"
     ]
    }
   ],
   "source": [
    "import dill, pickle\n",
    "import tensorflow as tf\n",
    "#agent.model = None\n",
    "#agent.target_model = None\n",
    "#agent.replay_memory = None\n",
    "\n",
    "# tf.saved_model.save(agent.model, \"model\")\n",
    "agent.model.save(modelname)\n",
    "\n",
    "with open(modelname + \"/model.pkl\", \"wb\") as file:\n",
    "    dill.dump(agent, file)\n",
    "\n",
    "with open(modelname + \"/replay_memory.pkl\", \"wb\") as file:\n",
    "    dill.dump(agent.replay_memory, file)\n",
    "\n",
    "#with open(filename + \"_replay_memory.pkl\", \"wb\") as file:\n",
    "#    pickle.dump(agent.replay_memory, file)\n",
    "\n",
    "#with open(filename + \"_target_model.pkl\", \"wb\") as file:\n",
    "    #pickle.dump(agent.target_model, file)"
   ]
  },
  {
   "cell_type": "code",
   "execution_count": 5,
   "metadata": {},
   "outputs": [
    {
     "name": "stderr",
     "output_type": "stream",
     "text": [
      "2024-05-22 09:41:22.832538: I external/local_xla/xla/stream_executor/cuda/cuda_executor.cc:887] could not open file to read NUMA node: /sys/bus/pci/devices/0000:01:00.0/numa_node\n",
      "Your kernel may have been built without NUMA support.\n",
      "2024-05-22 09:41:22.854989: I external/local_xla/xla/stream_executor/cuda/cuda_executor.cc:887] could not open file to read NUMA node: /sys/bus/pci/devices/0000:01:00.0/numa_node\n",
      "Your kernel may have been built without NUMA support.\n",
      "2024-05-22 09:41:22.855062: I external/local_xla/xla/stream_executor/cuda/cuda_executor.cc:887] could not open file to read NUMA node: /sys/bus/pci/devices/0000:01:00.0/numa_node\n",
      "Your kernel may have been built without NUMA support.\n",
      "2024-05-22 09:41:22.856549: I external/local_xla/xla/stream_executor/cuda/cuda_executor.cc:887] could not open file to read NUMA node: /sys/bus/pci/devices/0000:01:00.0/numa_node\n",
      "Your kernel may have been built without NUMA support.\n",
      "2024-05-22 09:41:22.856610: I external/local_xla/xla/stream_executor/cuda/cuda_executor.cc:887] could not open file to read NUMA node: /sys/bus/pci/devices/0000:01:00.0/numa_node\n",
      "Your kernel may have been built without NUMA support.\n",
      "2024-05-22 09:41:22.856654: I external/local_xla/xla/stream_executor/cuda/cuda_executor.cc:887] could not open file to read NUMA node: /sys/bus/pci/devices/0000:01:00.0/numa_node\n",
      "Your kernel may have been built without NUMA support.\n",
      "2024-05-22 09:41:22.975936: I external/local_xla/xla/stream_executor/cuda/cuda_executor.cc:887] could not open file to read NUMA node: /sys/bus/pci/devices/0000:01:00.0/numa_node\n",
      "Your kernel may have been built without NUMA support.\n",
      "2024-05-22 09:41:22.976045: I external/local_xla/xla/stream_executor/cuda/cuda_executor.cc:887] could not open file to read NUMA node: /sys/bus/pci/devices/0000:01:00.0/numa_node\n",
      "Your kernel may have been built without NUMA support.\n",
      "2024-05-22 09:41:22.976059: I tensorflow/core/common_runtime/gpu/gpu_device.cc:2022] Could not identify NUMA node of platform GPU id 0, defaulting to 0.  Your kernel may not have been built with NUMA support.\n",
      "2024-05-22 09:41:22.976134: I external/local_xla/xla/stream_executor/cuda/cuda_executor.cc:887] could not open file to read NUMA node: /sys/bus/pci/devices/0000:01:00.0/numa_node\n",
      "Your kernel may have been built without NUMA support.\n",
      "2024-05-22 09:41:22.976155: I tensorflow/core/common_runtime/gpu/gpu_device.cc:1929] Created device /job:localhost/replica:0/task:0/device:GPU:0 with 4734 MB memory:  -> device: 0, name: NVIDIA GeForce GTX 980 Ti, pci bus id: 0000:01:00.0, compute capability: 5.2\n",
      "2024-05-22 09:41:56.079633: I external/local_tsl/tsl/platform/default/subprocess.cc:304] Start cannot spawn child process: No such file or directory\n"
     ]
    }
   ],
   "source": [
    "import dill, pickle\n",
    "import tensorflow as tf\n",
    "#agent.model = None\n",
    "#agent.target_model = None\n",
    "#agent.replay_memory = None\n",
    "\n",
    "with open(modelname + \"/model.pkl\", \"rb\") as file:\n",
    "        agent = dill.load(file)\n",
    "\n",
    "with open(modelname + \"/replay_memory.pkl\", \"rb\") as file:\n",
    "    agent.replay_memory = dill.load(file)\n",
    "    \n",
    "agent.model = tf.keras.models.load_model(modelname)\n",
    "agent.target_model = tf.keras.models.load_model(modelname)"
   ]
  }
 ],
 "metadata": {
  "kernelspec": {
   "display_name": "Python 3 (ipykernel)",
   "language": "python",
   "name": "python3"
  },
  "language_info": {
   "codemirror_mode": {
    "name": "ipython",
    "version": 3
   },
   "file_extension": ".py",
   "mimetype": "text/x-python",
   "name": "python",
   "nbconvert_exporter": "python",
   "pygments_lexer": "ipython3",
   "version": "3.10.12"
  }
 },
 "nbformat": 4,
 "nbformat_minor": 4
}
